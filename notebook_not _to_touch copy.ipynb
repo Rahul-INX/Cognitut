{
 "cells": [
  {
   "cell_type": "code",
   "execution_count": 16,
   "metadata": {},
   "outputs": [],
   "source": [
    "from langchain.document_loaders import PyPDFDirectoryLoader, TextLoader, CSVLoader\n",
    "from langchain.vectorstores import FAISS\n",
    "from langchain.embeddings.openai import OpenAIEmbeddings\n",
    "from langchain.text_splitter import RecursiveCharacterTextSplitter, CharacterTextSplitter\n",
    "from langchain.storage import LocalFileStore\n",
    "from langchain.retrievers import BM25Retriever, EnsembleRetriever, ContextualCompressionRetriever\n",
    "from langchain.retrievers.document_compressors import LLMChainExtractor, LLMChainFilter, EmbeddingsFilter\n",
    "from langchain.embeddings import HuggingFaceEmbeddings\n",
    "from langchain.llms import DeepInfra\n",
    "from langchain.chains import ConversationalRetrievalChain\n",
    "from langchain_core.utils.env import get_from_env\n",
    "from dotenv import load_dotenv\n",
    "import streamlit as st\n",
    "from streamlit_chat import message\n",
    "import tempfile\n",
    "import os"
   ]
  },
  {
   "cell_type": "code",
   "execution_count": 17,
   "metadata": {},
   "outputs": [],
   "source": [
    "\n",
    "# Accessing the OPENAI_API_KEY variable\n",
    "openaiapikey = os.environ.get('OPENAI_API_KEY')\n",
    "\n",
    "# Accessing the DEEPINFRA_API_TOKEN variable\n",
    "deeptoken = os.environ.get('DEEPINFRA_API_TOKEN')"
   ]
  },
  {
   "cell_type": "code",
   "execution_count": 18,
   "metadata": {},
   "outputs": [],
   "source": [
    "compressor_llm = DeepInfra(model_id=\"mistralai/Mistral-7B-Instruct-v0.1\")\n",
    "compressor_llm.model_kwargs = {\n",
    "    \"temperature\": 0.1,\n",
    "    \"repetition_penalty\": 1.2,\n",
    "    \"max_new_tokens\": 500,\n",
    "    \"top_p\": 0.90,\n",
    "}"
   ]
  },
  {
   "cell_type": "code",
   "execution_count": 19,
   "metadata": {},
   "outputs": [],
   "source": [
    "embeddings = OpenAIEmbeddings(model='text-embedding-ada-002')\n",
    "# Helper function for printing docs\n",
    "def pretty_print_docs(docs):\n",
    "    print(f\"\\n{'-' * 100}\\n\".join([f\"Document {i+1}:\\n\\n\" + d.page_content for i, d in enumerate(docs)]))\n",
    "    "
   ]
  },
  {
   "cell_type": "code",
   "execution_count": 20,
   "metadata": {},
   "outputs": [
    {
     "name": "stderr",
     "output_type": "stream",
     "text": [
      "2023-12-30 17:10:52.638 \n",
      "  \u001b[33m\u001b[1mWarning:\u001b[0m to view this Streamlit app on a browser, run it with the following\n",
      "  command:\n",
      "\n",
      "    streamlit run C:\\Users\\rshoc\\AppData\\Roaming\\Python\\Python310\\site-packages\\ipykernel_launcher.py [ARGUMENTS]\n"
     ]
    },
    {
     "data": {
      "text/plain": [
       "DeltaGenerator()"
      ]
     },
     "execution_count": 20,
     "metadata": {},
     "output_type": "execute_result"
    }
   ],
   "source": [
    "st.title(\"hidfddddfdfdf\")"
   ]
  },
  {
   "cell_type": "markdown",
   "metadata": {},
   "source": []
  },
  {
   "cell_type": "code",
   "execution_count": 5,
   "metadata": {},
   "outputs": [],
   "source": [
    "loader = PyPDFDirectoryLoader(\"Documents\")\n",
    "docs = loader.load()\n",
    "\n",
    "text_splitter = RecursiveCharacterTextSplitter(\n",
    "    chunk_size = 1500,\n",
    "    chunk_overlap  = 300,\n",
    "    length_function = len,\n",
    "    is_separator_regex = False,\n",
    ")\n",
    "documents  = text_splitter.split_documents(docs)\n"
   ]
  },
  {
   "cell_type": "code",
   "execution_count": 6,
   "metadata": {},
   "outputs": [
    {
     "name": "stdout",
     "output_type": "stream",
     "text": [
      "vectorDB already present in dir : vectorStore/cse/semester8\n",
      "CPU times: total: 609 ms\n",
      "Wall time: 1.08 s\n"
     ]
    }
   ],
   "source": [
    "%%time\n",
    "# Define the path for the FAISS vector store\n",
    "FAISS_DB_PATH = 'vectorStore/cse/semester8'\n",
    "\n",
    "\n",
    "if os.path.exists(FAISS_DB_PATH):\n",
    "   db = FAISS.load_local(FAISS_DB_PATH, embeddings)\n",
    "   print(f\"vectorDB already present in dir : {FAISS_DB_PATH}\")\n",
    "\n",
    "else:\n",
    "    FAISS_DB_PATH = 'vectorStore/cse/semester8'\n",
    "    db = FAISS.from_documents(documents, embeddings)\n",
    "    db.save_local(FAISS_DB_PATH)\n",
    "\n",
    "\n",
    "    print(f\"vectorDB created in dir : {FAISS_DB_PATH}\")\n"
   ]
  },
  {
   "cell_type": "code",
   "execution_count": 7,
   "metadata": {},
   "outputs": [],
   "source": [
    "faiss_retriever = db.as_retriever(search_kwargs={\"k\": 4})\n",
    "\" k   define no of top relevant documents to be retrieved\"\n",
    "\n",
    "bm25_retriever = BM25Retriever.from_documents(documents)\n",
    "bm25_retriever.k = 4\n",
    "\n",
    "\n",
    "# initialize the ensemble retriever\n",
    "ensemble_retriever = EnsembleRetriever(\n",
    "    retrievers=[bm25_retriever, faiss_retriever], weights=[0.5, 0.5]\n",
    ")"
   ]
  },
  {
   "cell_type": "code",
   "execution_count": 8,
   "metadata": {},
   "outputs": [],
   "source": [
    "user_query =  '''\n",
    " List out the key elements or components involved in parallel computing, and how do these elements work together to execute tasks simultaneously and improve the overall performance and efficiency of computing systems?\n",
    "''' ## make this user query to inout field in streamlit application to get user query\n",
    "\n",
    "docs = ensemble_retriever.get_relevant_documents(user_query)\n"
   ]
  },
  {
   "cell_type": "code",
   "execution_count": 9,
   "metadata": {},
   "outputs": [
    {
     "name": "stdout",
     "output_type": "stream",
     "text": [
      "using similarity_threshold\n"
     ]
    }
   ],
   "source": [
    "\n",
    "if (input(\"enter quality mode : high or average\")=='high'):   ##this must be made into a mode button in the streamlit side bar (retrieval processing -> quality or standard)\n",
    "    compressor = LLMChainExtractor.from_llm(compressor_llm)\n",
    "else:\n",
    "    compressor = EmbeddingsFilter(embeddings=embeddings, similarity_threshold=0.80)\n",
    "    print(\"using similarity_threshold\")\n",
    "    \n",
    "compression_retriever = ContextualCompressionRetriever(base_compressor=compressor, base_retriever=ensemble_retriever)"
   ]
  },
  {
   "cell_type": "code",
   "execution_count": 10,
   "metadata": {},
   "outputs": [
    {
     "name": "stdout",
     "output_type": "stream",
     "text": [
      "Document 1:\n",
      "\n",
      "Review questions............................................................................................................. 27\n",
      "CHAPTER 2 Principles of Parallel and Distributed Computing ............................ 29\n",
      "2.1Eras of computing..................................................................................................... 29\n",
      "2.2Parallel vs. distributed computing............................................................................ 29\n",
      "2.3Elements of parallel computing ............................................................................... 31\n",
      "2.3.1 What is parallel processing? ........................................................................... 312.3.2 Hardware architectures for parallel processing .............................................. 322.3.3 Approaches to parallel programming ............................................................. 362.3.4 Levels of parallelism....................................................................................... 362.3.5 Laws of caution............................................................................................... 37\n",
      "v\n",
      "----------------------------------------------------------------------------------------------------\n",
      "Document 2:\n",
      "\n",
      "2.4Elements of distributed computing .......................................................................... 39\n",
      "2.4.1 General concepts and definitions.................................................................... 392.4.2 Components of a distributed system............................................................... 392.4.3 Architectural styles for distributed computing ............................................... 412.4.4 Models for interprocess communication......................................................... 51\n",
      "2.5Technologies for distributed computing .................................................................. 54\n",
      "2.5.1 Remote procedure call .................................................................................... 542.5.2 Distributed object frameworks........................................................................ 562.5.3 Service-oriented computing ............................................................................ 61\n",
      "Summary........................................................................................................................ .. 69\n",
      "Review questions............................................................................................................. 70\n",
      "CHAPTER 3 Virtualization ...................................................................................... 71\n",
      "3.1Introduction............................................................................................................... 71\n",
      "----------------------------------------------------------------------------------------------------\n",
      "Document 3:\n",
      "\n",
      "1.2Historical developments ........................................................................................... 15\n",
      "1.2.1 Distributed systems ......................................................................................... 15\n",
      "1.2.2 Virtualization................................................................................................... 18\n",
      "1.2.3 Web 2.0 ........................................................................................................... 191.2.4 Service-oriented computing ............................................................................ 201.2.5 Utility-oriented computing.............................................................................. 21\n",
      "1.3Building cloud computing environments................................................................. 22\n",
      "1.3.1 Application development ................................................................................ 221.3.2 Infrastructure and system development .......................................................... 231.3.3 Computing platforms and technologies .......................................................... 24\n",
      "Summary........................................................................................................................ .. 26\n",
      "Review questions............................................................................................................. 27\n",
      "CHAPTER 2 Principles of Parallel and Distributed Computing ............................ 29\n",
      "----------------------------------------------------------------------------------------------------\n",
      "Document 4:\n",
      "\n",
      "Directions for adoption: theory, labs, and projects\n",
      "Given the importance of the cloud computing paradigm and its rapid uptake in industry, universitiesand educational institutions need to upgrade their curriculum by introducing one or more subjectsin the area of cloud computing and related topics, such as parallel computing and distributed sys-\n",
      "tems. We recommend that they offer at least one subject on cloud computing as part of their under-\n",
      "graduate and postgraduate degree programs, such as B.E./B.Tech./BSc in computer science andrelated areas and Masters, including the Master of Computer Applications (MCA). We believe thatxv Preface\n",
      "----------------------------------------------------------------------------------------------------\n",
      "Document 5:\n",
      "\n",
      "this book will serve as an excellent textbook for such subjects. If the students have already had\n",
      "exposure to the concepts of parallel and distributed computing, Chapter 2 can be skipped.\n",
      "For those aiming to make their curriculum rich with cloud computing, we recommend offering\n",
      "two courses: “Introduction to Cloud Computing” and “Advanced Cloud Computing,” in two differ-ent semesters. This book has sufficient content to cater to both of them. The first subject can bebased on Chapters 1 /C06 and the second one based on Chapters 7 /C011.\n",
      "In addition to theory, we strongly recommend the introduction of a laboratory subject that offers\n",
      "hands-on experience. The lab exercises and assignments can focus on creating high-performancecloud applications and assignments on a range of topics, including parallel execution of mathemati-cal functions, sorting of large data in parallel, image processing, and data mining. Using cloud soft-\n",
      "ware systems such as Aneka, institutions can easily set up a private/enterprise cloud computing\n",
      "----------------------------------------------------------------------------------------------------\n",
      "Document 6:\n",
      "\n",
      "Preface\n",
      "The growing popularity of the Internet and the Web, along with the availability of powerful\n",
      "handheld computing, mobile, and sensing devices, are changing the way we interact, manage ourlives, conduct business, and access or deliver services. The lowering costs of computation and com-munication are driving the focus from personal to datacenter-centric computing. Although parallel\n",
      "and distributed computing has been around for several years, its new forms, multicore and cloud\n",
      "computing, have brought about a sweeping change in the industry. These trends are pushing theindustry focus from developing applications for PCs to cloud datacenters that enable millions ofusers to use software simultaneously.\n",
      "Computing is being transformed to a model consisting of commoditized services delivered in a\n",
      "manner similar to utilities such as water, electricity, gas, and telephony. As a result, informationtechnology (IT) services are billed and delivered as “computing utilities” over shared delivery net-works, akin to water, electricity, gas, and telephony services delivery. In such a model, users access\n",
      "services based on their requirements, regardless of where those services are hosted. Several com-\n",
      "puting paradigms have promised to deliver this utility computing vision. Cloud computing is themost recent emerging paradigm promising to turn the vision of “computing utilities” into a reality.\n",
      "Cloud computing has become one of the buzzwords in the IT industry. Several IT vendors are\n"
     ]
    }
   ],
   "source": [
    "compressed_docs = compression_retriever.get_relevant_documents(user_query)\n",
    "pretty_print_docs(compressed_docs)"
   ]
  },
  {
   "cell_type": "code",
   "execution_count": 11,
   "metadata": {},
   "outputs": [],
   "source": [
    "metadata_info=[]\n",
    "for i in range(len(compressed_docs)):    \n",
    "    metadata_info.append('\\''+str(compressed_docs[i].metadata)[23:])"
   ]
  },
  {
   "cell_type": "code",
   "execution_count": 12,
   "metadata": {},
   "outputs": [
    {
     "data": {
      "text/plain": [
       "[\"'cse\\\\\\\\semester8\\\\\\\\cloud_computing.pdf', 'page': 5}\",\n",
       " \"'cse\\\\\\\\semester8\\\\\\\\cloud_computing.pdf', 'page': 6}\",\n",
       " \"'cse\\\\\\\\semester8\\\\\\\\cloud_computing.pdf', 'page': 5}\",\n",
       " \"'cse\\\\\\\\semester8\\\\\\\\cloud_computing.pdf', 'page': 15}\",\n",
       " \"'cse\\\\\\\\semester8\\\\\\\\cloud_computing.pdf', 'page': 16}\",\n",
       " \"'cse\\\\\\\\semester8\\\\\\\\cloud_computing.pdf', 'page': 13}\"]"
      ]
     },
     "execution_count": 12,
     "metadata": {},
     "output_type": "execute_result"
    }
   ],
   "source": [
    "metadata_info"
   ]
  },
  {
   "cell_type": "code",
   "execution_count": 13,
   "metadata": {},
   "outputs": [],
   "source": [
    "llm = DeepInfra(model_id=\"meta-llama/Llama-2-7b-chat-hf\")\n",
    "llm.model_kwargs = {\n",
    "    \"temperature\": 0.0,\n",
    "    \"repetition_penalty\": 1.2,\n",
    "    \"max_new_tokens\": 512,\n",
    "    \"top_p\": 0.9,\n",
    "}\n"
   ]
  },
  {
   "cell_type": "code",
   "execution_count": 14,
   "metadata": {},
   "outputs": [],
   "source": [
    "context = \"\\n\".join([f\"{doc.page_content}\\nMetadata: {doc.metadata}\" for doc in compressed_docs])\n",
    "response = llm( context=context,prompt=user_query)"
   ]
  },
  {
   "cell_type": "code",
   "execution_count": 15,
   "metadata": {},
   "outputs": [
    {
     "data": {
      "text/plain": [
       "\"Parallel computing is a technique that involves dividing complex computational tasks into smaller sub-tasks that can be executed simultaneously on multiple processors or cores. The following are some of the key elements involved in parallel computing:\\nProcessors/Cores: Parallel computing requires multiple processing units (CPUs) or cores to perform different parts of the computation simultaneously. These CPUs may be located on a single chip or distributed across several machines connected by a network.\\nMemory Hierarchy: Each processor needs access to shared memory for data exchange between processes running concurrently. This hierarchy includes registers, cache memories, main memory, etc., which ensure efficient communication between processes without significant delays due to data transfer times over long distances within large systems with many nodes containing numerous processors each!\\nInterconnects: Interconnects connect various nodes within a distributed system allowing them exchanging information via messages sent through message passing protocols like MPI (Message Passing Interface). Communication overhead becomes more manageable when using interconnect technologies such as high-speed networks or optical fibers instead relying solely upon slower but cheaper Ethernet cables found commonly used today inside most modern office buildings worldwide!\\nMiddleware: Middleware software provides an interface between applications written specifically targeted towards serial execution versus those designed natively supportive multi-threaded environments where threads run independently yet still share resources efficiently thanks largely because middleware layers provide necessary abstractions needed here too! Some examples include OpenMPI (Open Multi-Processing Infrastructure), PGAS (Partitioned Global Address Space), etcetera...\\nApplication Programming Interface (API): An API allows developers write programs tailored toward leveraging available hardware resources effectively while hiding details about specific platforms from user perspective; this makes it easier maintainability across diverse platforms since same codebase works everywhere without modification required every time new platform comes along! Examples include CUDA's NVIDIA GPU Computing SDK (Software Development Kit), OpenCL (Open Computing Language), etcetera...\\nInput/Output Operations Management System(IOMS): IOMS manages input/output operations among different nodes within a distributed system ensuring efficient use of I/O devices attached thereto. It also handles buffer management, error recovery, and other related functions essential for smooth operation of parallel computations involving massive amounts of data movement across vast distances at incredible speeds possible only through advanced networking technology combined with sophisticated algorithms capable handling enorm\""
      ]
     },
     "execution_count": 15,
     "metadata": {},
     "output_type": "execute_result"
    }
   ],
   "source": [
    "response"
   ]
  }
 ],
 "metadata": {
  "kernelspec": {
   "display_name": "Python 3",
   "language": "python",
   "name": "python3"
  },
  "language_info": {
   "codemirror_mode": {
    "name": "ipython",
    "version": 3
   },
   "file_extension": ".py",
   "mimetype": "text/x-python",
   "name": "python",
   "nbconvert_exporter": "python",
   "pygments_lexer": "ipython3",
   "version": "3.10.11"
  }
 },
 "nbformat": 4,
 "nbformat_minor": 2
}
